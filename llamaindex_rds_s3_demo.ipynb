{
 "cells": [
  {
   "cell_type": "markdown",
   "metadata": {},
   "source": [
    "## Natural Language SQL on RDS"
   ]
  },
  {
   "cell_type": "code",
   "execution_count": 16,
   "metadata": {},
   "outputs": [],
   "source": [
    "import os\n",
    "from sqlalchemy import create_engine, MetaData\n",
    "from llama_index import SQLDatabase, VectorStoreIndex\n",
    "from llama_index.indices.struct_store import SQLTableRetrieverQueryEngine, NLSQLTableQueryEngine\n",
    "from llama_index.objects import SQLTableNodeMapping, ObjectIndex, SQLTableSchema\n",
    "from langchain import OpenAI"
   ]
  },
  {
   "cell_type": "code",
   "execution_count": 17,
   "metadata": {},
   "outputs": [],
   "source": [
    "DB_NAME = \"your_db_name\" # if you don't remember setting one, it is probably postgres\n",
    "PASSWORD = \"your_password\"\n",
    "RDS_ARN = \"your_rds_arn\"\n",
    "USER_NAME =\"your_username\"\n",
    "PORT = \"your_port\" # if you don't remember setting one, it is probably 5432"
   ]
  },
  {
   "cell_type": "markdown",
   "metadata": {},
   "source": [
    "#### Create Engine"
   ]
  },
  {
   "cell_type": "code",
   "execution_count": 4,
   "metadata": {},
   "outputs": [],
   "source": [
    "pg_uri = f\"postgresql+psycopg2://{USER_NAME}:{PASSWORD}@{RDS_ARN}:{PORT}/{DB_NAME}\"\n",
    "engine = create_engine(pg_uri)"
   ]
  },
  {
   "cell_type": "markdown",
   "metadata": {},
   "source": [
    "#### Create SQLDatabase"
   ]
  },
  {
   "cell_type": "code",
   "execution_count": 5,
   "metadata": {},
   "outputs": [],
   "source": [
    "# https://docs.sqlalchemy.org/en/20/core/metadata.html#sqlalchemy.schema.MetaData.reflect\n",
    "# Load all available table definitions from the database.\n",
    "# MetaData: A collection of Table objects and their associated schema constructs.\n",
    "\n",
    "metadata_obj = MetaData() \n",
    "metadata_obj.reflect(engine)\n",
    "\n",
    "# Create SQLDatabase\n",
    "sql_database = SQLDatabase(engine)"
   ]
  },
  {
   "cell_type": "code",
   "execution_count": 8,
   "metadata": {},
   "outputs": [],
   "source": [
    "## an example of using SQLDatabase to perform sql Query\n",
    "table_name = \"your_table_name\"\n",
    "results = sql_database.run_sql(f\"SELECT * FROM {table_name};\")\n",
    "query_result = results[1][\"result\"]\n",
    "colnames = results[1][\"col_keys\"]"
   ]
  },
  {
   "cell_type": "markdown",
   "metadata": {},
   "source": [
    "#### Natural language SQL\n",
    "\n",
    "use NLSQLTableQueryEngine to construct natural language queries"
   ]
  },
  {
   "cell_type": "code",
   "execution_count": 12,
   "metadata": {},
   "outputs": [],
   "source": [
    "query_engine = NLSQLTableQueryEngine(\n",
    "    sql_database=sql_database,\n",
    "    tables=[table_name],\n",
    ")\n",
    "query_str = \"who is the last log in user?\"\n",
    "response = query_engine.query(query_str)"
   ]
  },
  {
   "cell_type": "code",
   "execution_count": null,
   "metadata": {},
   "outputs": [],
   "source": [
    "response.metadata"
   ]
  },
  {
   "cell_type": "markdown",
   "metadata": {},
   "source": [
    "#### Building Table Index\n",
    "\n",
    "If we don’t know ahead of time which table we would like to use, and the total size of the table schema overflows your context window size, we wil store the table schema in an index so that during query time we can retrieve the right schema."
   ]
  },
  {
   "cell_type": "code",
   "execution_count": null,
   "metadata": {},
   "outputs": [],
   "source": [
    "table_node_mapping = SQLTableNodeMapping(sql_database)\n",
    "\n",
    "table_schema_objs = []\n",
    "\n",
    "for table in metadata_obj.tables.values():\n",
    "    table_schema_objs.append(SQLTableSchema(table_name=table.name)) # one SQLTableSchema for each table\n",
    "\n",
    "# table schema information into a vector index. \n",
    "obj_index = ObjectIndex.from_objects(\n",
    "    table_schema_objs,\n",
    "    table_node_mapping,\n",
    "    VectorStoreIndex,\n",
    ")"
   ]
  },
  {
   "cell_type": "code",
   "execution_count": null,
   "metadata": {},
   "outputs": [],
   "source": [
    "query_engine = SQLTableRetrieverQueryEngine(\n",
    "    sql_database, obj_index.as_retriever(similarity_top_k=1)\n",
    ")\n",
    "response = query_engine.query(query_str)\n",
    "print(response)"
   ]
  },
  {
   "cell_type": "markdown",
   "metadata": {},
   "source": [
    "## Natural Language SQL on S3 Data Lake"
   ]
  },
  {
   "cell_type": "code",
   "execution_count": null,
   "metadata": {},
   "outputs": [],
   "source": [
    "from urllib.parse import quote_plus\n",
    "\n",
    "AWS_REGION = \"your_region\"\n",
    "SCHEMA_NAME = \"your_Database_name\"\n",
    "S3_STAGING_DIR = \"s3://bucket_name/folder_name/\"\n",
    "\n",
    "connect_str = \"awsathena+rest://athena.{region_name}.amazonaws.com:443/{schema_name}?s3_staging_dir={s3_staging_dir}\"\n",
    "\n",
    "engine = create_engine(connect_str.format(\n",
    "        region_name=AWS_REGION,\n",
    "        schema_name=SCHEMA_NAME,\n",
    "        s3_staging_dir=quote_plus(S3_STAGING_DIR)\n",
    "))\n",
    "\n",
    "metadata_obj = MetaData() \n",
    "metadata_obj.reflect(engine) \n",
    "\n",
    "sql_database = SQLDatabase(engine)\n",
    "\n",
    "table_names = [table for table in metadata_obj.tables.values()]\n",
    "\n",
    "query_engine = NLSQLTableQueryEngine(\n",
    "    sql_database=sql_database,\n",
    "    tables=table_names,\n",
    ")\n",
    "query_str = \"who is the last logged in user?\"\n",
    "response = query_engine.query(query_str)"
   ]
  },
  {
   "cell_type": "markdown",
   "metadata": {},
   "source": [
    "## Customize LLM Used by NLSQL"
   ]
  },
  {
   "cell_type": "code",
   "execution_count": 21,
   "metadata": {},
   "outputs": [],
   "source": [
    "from langchain_community.chat_models import ChatOpenAI\n",
    "from llama_index import ServiceContext\n",
    "\n",
    "service_context = ServiceContext.from_defaults(llm=ChatOpenAI(temperature=0, model=\"gpt-4\"))"
   ]
  },
  {
   "cell_type": "code",
   "execution_count": 23,
   "metadata": {},
   "outputs": [],
   "source": [
    "query_engine = NLSQLTableQueryEngine(\n",
    "    sql_database=sql_database,\n",
    "    tables=table_names,\n",
    "    service_context=service_context\n",
    ")\n",
    "query_str = \"who is the last logged in user?\"\n",
    "response = query_engine.query(query_str)"
   ]
  }
 ],
 "metadata": {
  "kernelspec": {
   "display_name": "Python 3",
   "language": "python",
   "name": "python3"
  },
  "language_info": {
   "codemirror_mode": {
    "name": "ipython",
    "version": 3
   },
   "file_extension": ".py",
   "mimetype": "text/x-python",
   "name": "python",
   "nbconvert_exporter": "python",
   "pygments_lexer": "ipython3",
   "version": "3.11.5"
  }
 },
 "nbformat": 4,
 "nbformat_minor": 2
}
